{
 "cells": [
  {
   "cell_type": "code",
   "execution_count": 2,
   "metadata": {},
   "outputs": [
    {
     "name": "stdout",
     "output_type": "stream",
     "text": [
      "Requirement already satisfied: geopy in ./anaconda3/lib/python3.7/site-packages (1.21.0)\n",
      "Requirement already satisfied: geographiclib<2,>=1.49 in ./anaconda3/lib/python3.7/site-packages (from geopy) (1.50)\n"
     ]
    }
   ],
   "source": [
    "!pip install geopy\n"
   ]
  },
  {
   "cell_type": "code",
   "execution_count": 10,
   "metadata": {},
   "outputs": [],
   "source": [
    "from geopy.geocoders import Nominatim\n",
    "CLIENT_ID = 'JFGH3PREVZK0JAEXJ4WANVT0C1XNAHHUC4NHYTBBA2OR2P0W' # your Foursquare ID\n",
    "CLIENT_SECRET = 'L1JMFW35UOM0TZBH3BGXQOT1DGTZ5OL5EIGQPJ11BTAMVHUY' # your Foursquare Secret\n",
    "CLIENT_SECRET = 'L1JMFW35UOM0TZBH3BGXQOT1DGTZ5OL5EIGQPJ11BTAMVHUY' # your Foursquare Secret\n",
    "VERSION = '20180604'\n",
    "limit =50\n",
    "radius=1000\n"
   ]
  },
  {
   "cell_type": "code",
   "execution_count": 11,
   "metadata": {},
   "outputs": [
    {
     "name": "stdout",
     "output_type": "stream",
     "text": [
      "55.485765 9.497823\n"
     ]
    }
   ],
   "source": [
    "geolocator=Nominatim(user_agent='foursquare_agent')\n",
    "address=\"Klovervej 44 Kolding, Denmark, DK\"\n",
    "locator=geolocator.geocode(address)\n",
    "latitude=locator.latitude\n",
    "longitude=locator.longitude\n",
    "print(latitude,longitude)"
   ]
  },
  {
   "cell_type": "code",
   "execution_count": 14,
   "metadata": {},
   "outputs": [
    {
     "data": {
      "text/plain": [
       "'https://api.foursquare.com/v2/venues/explore?client_id=JFGH3PREVZK0JAEXJ4WANVT0C1XNAHHUC4NHYTBBA2OR2P0W&client_secret=L1JMFW35UOM0TZBH3BGXQOT1DGTZ5OL5EIGQPJ11BTAMVHUY&ll=55.485765,9.497823&v=20180604&radius=1000&limit=50'"
      ]
     },
     "execution_count": 14,
     "metadata": {},
     "output_type": "execute_result"
    }
   ],
   "source": [
    "url = 'https://api.foursquare.com/v2/venues/explore?client_id={}&client_secret={}&ll={},{}&v={}&radius={}&limit={}'.format(CLIENT_ID, CLIENT_SECRET, latitude, longitude, VERSION, radius, limit)\n",
    "url"
   ]
  },
  {
   "cell_type": "code",
   "execution_count": 15,
   "metadata": {},
   "outputs": [
    {
     "data": {
      "text/plain": [
       "{'meta': {'code': 200, 'requestId': '5e4978983907e700247c4db5'},\n",
       " 'response': {'suggestedFilters': {'header': 'Tap to show:',\n",
       "   'filters': [{'name': 'Open now', 'key': 'openNow'}]},\n",
       "  'headerLocation': 'Kolding',\n",
       "  'headerFullLocation': 'Kolding',\n",
       "  'headerLocationGranularity': 'city',\n",
       "  'totalResults': 5,\n",
       "  'suggestedBounds': {'ne': {'lat': 55.49476500900001,\n",
       "    'lng': 9.513677272866461},\n",
       "   'sw': {'lat': 55.47676499099999, 'lng': 9.48196872713354}},\n",
       "  'groups': [{'type': 'Recommended Places',\n",
       "    'name': 'recommended',\n",
       "    'items': [{'reasons': {'count': 0,\n",
       "       'items': [{'summary': 'This spot is popular',\n",
       "         'type': 'general',\n",
       "         'reasonName': 'globalInteractionReason'}]},\n",
       "      'venue': {'id': '4c36e1e43849c928fac3bcb1',\n",
       "       'name': 'Marina Syd',\n",
       "       'location': {'address': 'Fjordstien',\n",
       "        'lat': 55.487869206849695,\n",
       "        'lng': 9.499942272170095,\n",
       "        'labeledLatLngs': [{'label': 'display',\n",
       "          'lat': 55.487869206849695,\n",
       "          'lng': 9.499942272170095}],\n",
       "        'distance': 269,\n",
       "        'postalCode': '6000',\n",
       "        'cc': 'DK',\n",
       "        'city': 'Kolding',\n",
       "        'state': 'Region Syddanmark',\n",
       "        'country': 'Danmark',\n",
       "        'formattedAddress': ['Fjordstien', '6000 Kolding', 'Danmark']},\n",
       "       'categories': [{'id': '4bf58dd8d48988d1e0941735',\n",
       "         'name': 'Harbor / Marina',\n",
       "         'pluralName': 'Harbors / Marinas',\n",
       "         'shortName': 'Harbor / Marina',\n",
       "         'icon': {'prefix': 'https://ss3.4sqi.net/img/categories_v2/parks_outdoors/harbor_',\n",
       "          'suffix': '.png'},\n",
       "         'primary': True}],\n",
       "       'photos': {'count': 0, 'groups': []}},\n",
       "      'referralId': 'e-0-4c36e1e43849c928fac3bcb1-0'},\n",
       "     {'reasons': {'count': 0,\n",
       "       'items': [{'summary': 'This spot is popular',\n",
       "         'type': 'general',\n",
       "         'reasonName': 'globalInteractionReason'}]},\n",
       "      'venue': {'id': '4d21e3da6e8c3704f8b906a0',\n",
       "       'name': 'REMA 1000',\n",
       "       'location': {'address': 'Kløvervej 39, Tved',\n",
       "        'crossStreet': 'Tvedvej',\n",
       "        'lat': 55.48418432471778,\n",
       "        'lng': 9.501753851338542,\n",
       "        'labeledLatLngs': [{'label': 'display',\n",
       "          'lat': 55.48418432471778,\n",
       "          'lng': 9.501753851338542}],\n",
       "        'distance': 304,\n",
       "        'postalCode': '6000',\n",
       "        'cc': 'DK',\n",
       "        'city': 'Kolding',\n",
       "        'state': 'Region Syddanmark',\n",
       "        'country': 'Danmark',\n",
       "        'formattedAddress': ['Kløvervej 39, Tved (Tvedvej)',\n",
       "         '6000 Kolding',\n",
       "         'Danmark']},\n",
       "       'categories': [{'id': '52dea92d3cf9994f4e043dbb',\n",
       "         'name': 'Discount Store',\n",
       "         'pluralName': 'Discount Stores',\n",
       "         'shortName': 'Discount Store',\n",
       "         'icon': {'prefix': 'https://ss3.4sqi.net/img/categories_v2/shops/discountstore_',\n",
       "          'suffix': '.png'},\n",
       "         'primary': True}],\n",
       "       'photos': {'count': 0, 'groups': []}},\n",
       "      'referralId': 'e-0-4d21e3da6e8c3704f8b906a0-1'},\n",
       "     {'reasons': {'count': 0,\n",
       "       'items': [{'summary': 'This spot is popular',\n",
       "         'type': 'general',\n",
       "         'reasonName': 'globalInteractionReason'}]},\n",
       "      'venue': {'id': '51bc50af498e9a4f34359b32',\n",
       "       'name': 'Kolding Kajak Klub',\n",
       "       'location': {'lat': 55.48831435702992,\n",
       "        'lng': 9.485405190130303,\n",
       "        'labeledLatLngs': [{'label': 'display',\n",
       "          'lat': 55.48831435702992,\n",
       "          'lng': 9.485405190130303}],\n",
       "        'distance': 833,\n",
       "        'cc': 'DK',\n",
       "        'city': 'Kolding',\n",
       "        'state': 'Region Syddanmark',\n",
       "        'country': 'Danmark',\n",
       "        'formattedAddress': ['Kolding', 'Danmark']},\n",
       "       'categories': [{'id': '4f4528bc4b90abdf24c9de85',\n",
       "         'name': 'Athletics & Sports',\n",
       "         'pluralName': 'Athletics & Sports',\n",
       "         'shortName': 'Athletics & Sports',\n",
       "         'icon': {'prefix': 'https://ss3.4sqi.net/img/categories_v2/shops/sports_outdoors_',\n",
       "          'suffix': '.png'},\n",
       "         'primary': True}],\n",
       "       'photos': {'count': 0, 'groups': []}},\n",
       "      'referralId': 'e-0-51bc50af498e9a4f34359b32-2'},\n",
       "     {'reasons': {'count': 0,\n",
       "       'items': [{'summary': 'This spot is popular',\n",
       "         'type': 'general',\n",
       "         'reasonName': 'globalInteractionReason'}]},\n",
       "      'venue': {'id': '4e8edd6a61afe70d47cf3346',\n",
       "       'name': 'Kolding Havn',\n",
       "       'location': {'address': 'Jens Holms Vej 1',\n",
       "        'lat': 55.49083733965614,\n",
       "        'lng': 9.48686691653904,\n",
       "        'labeledLatLngs': [{'label': 'display',\n",
       "          'lat': 55.49083733965614,\n",
       "          'lng': 9.48686691653904}],\n",
       "        'distance': 892,\n",
       "        'postalCode': '6000',\n",
       "        'cc': 'DK',\n",
       "        'city': 'Kolding',\n",
       "        'state': 'Region Syddanmark',\n",
       "        'country': 'Danmark',\n",
       "        'formattedAddress': ['Jens Holms Vej 1', '6000 Kolding', 'Danmark']},\n",
       "       'categories': [{'id': '4bf58dd8d48988d1e0941735',\n",
       "         'name': 'Harbor / Marina',\n",
       "         'pluralName': 'Harbors / Marinas',\n",
       "         'shortName': 'Harbor / Marina',\n",
       "         'icon': {'prefix': 'https://ss3.4sqi.net/img/categories_v2/parks_outdoors/harbor_',\n",
       "          'suffix': '.png'},\n",
       "         'primary': True}],\n",
       "       'photos': {'count': 0, 'groups': []}},\n",
       "      'referralId': 'e-0-4e8edd6a61afe70d47cf3346-3'},\n",
       "     {'reasons': {'count': 0,\n",
       "       'items': [{'summary': 'This spot is popular',\n",
       "         'type': 'general',\n",
       "         'reasonName': 'globalInteractionReason'}]},\n",
       "      'venue': {'id': '4cb6f0b9589f236a34e53a3d',\n",
       "       'name': 'Fakta',\n",
       "       'location': {'address': 'Agtrupvej',\n",
       "        'lat': 55.47883716192091,\n",
       "        'lng': 9.490719697210913,\n",
       "        'labeledLatLngs': [{'label': 'display',\n",
       "          'lat': 55.47883716192091,\n",
       "          'lng': 9.490719697210913}],\n",
       "        'distance': 891,\n",
       "        'postalCode': '6000',\n",
       "        'cc': 'DK',\n",
       "        'city': 'Kolding',\n",
       "        'state': 'Region Syddanmark',\n",
       "        'country': 'Danmark',\n",
       "        'formattedAddress': ['Agtrupvej', '6000 Kolding', 'Danmark']},\n",
       "       'categories': [{'id': '4bf58dd8d48988d1f6941735',\n",
       "         'name': 'Department Store',\n",
       "         'pluralName': 'Department Stores',\n",
       "         'shortName': 'Department Store',\n",
       "         'icon': {'prefix': 'https://ss3.4sqi.net/img/categories_v2/shops/departmentstore_',\n",
       "          'suffix': '.png'},\n",
       "         'primary': True}],\n",
       "       'photos': {'count': 0, 'groups': []}},\n",
       "      'referralId': 'e-0-4cb6f0b9589f236a34e53a3d-4'}]}]}}"
      ]
     },
     "execution_count": 15,
     "metadata": {},
     "output_type": "execute_result"
    }
   ],
   "source": [
    "import requests\n",
    "\n",
    "response=requests.get(url).json()\n",
    "response"
   ]
  },
  {
   "cell_type": "code",
   "execution_count": 37,
   "metadata": {},
   "outputs": [
    {
     "name": "stdout",
     "output_type": "stream",
     "text": [
      "There are  5 attractions near  Klovervej 44 Kolding, Denmark, DK\n"
     ]
    }
   ],
   "source": [
    "n=len(response['response']['groups'][0]['items'])\n",
    "print('There are ',n, 'attractions near ',address)"
   ]
  },
  {
   "cell_type": "code",
   "execution_count": 41,
   "metadata": {},
   "outputs": [
    {
     "name": "stdout",
     "output_type": "stream",
     "text": [
      "Marina Syd\n",
      "REMA 1000\n",
      "Kolding Kajak Klub\n",
      "Kolding Havn\n",
      "Fakta\n"
     ]
    }
   ],
   "source": [
    "for i in range(0,5):\n",
    "    print(response['response']['groups'][0]['items'][i]['venue']['name'])"
   ]
  },
  {
   "cell_type": "code",
   "execution_count": 45,
   "metadata": {},
   "outputs": [],
   "source": [
    "from pandas.io.json import json_normalize\n",
    "venues=json_normalize(response['response']['groups'][0]['items'])"
   ]
  },
  {
   "cell_type": "code",
   "execution_count": 46,
   "metadata": {},
   "outputs": [
    {
     "data": {
      "text/html": [
       "<div>\n",
       "<style scoped>\n",
       "    .dataframe tbody tr th:only-of-type {\n",
       "        vertical-align: middle;\n",
       "    }\n",
       "\n",
       "    .dataframe tbody tr th {\n",
       "        vertical-align: top;\n",
       "    }\n",
       "\n",
       "    .dataframe thead th {\n",
       "        text-align: right;\n",
       "    }\n",
       "</style>\n",
       "<table border=\"1\" class=\"dataframe\">\n",
       "  <thead>\n",
       "    <tr style=\"text-align: right;\">\n",
       "      <th></th>\n",
       "      <th>reasons.count</th>\n",
       "      <th>reasons.items</th>\n",
       "      <th>referralId</th>\n",
       "      <th>venue.categories</th>\n",
       "      <th>venue.id</th>\n",
       "      <th>venue.location.address</th>\n",
       "      <th>venue.location.cc</th>\n",
       "      <th>venue.location.city</th>\n",
       "      <th>venue.location.country</th>\n",
       "      <th>venue.location.crossStreet</th>\n",
       "      <th>venue.location.distance</th>\n",
       "      <th>venue.location.formattedAddress</th>\n",
       "      <th>venue.location.labeledLatLngs</th>\n",
       "      <th>venue.location.lat</th>\n",
       "      <th>venue.location.lng</th>\n",
       "      <th>venue.location.postalCode</th>\n",
       "      <th>venue.location.state</th>\n",
       "      <th>venue.name</th>\n",
       "      <th>venue.photos.count</th>\n",
       "      <th>venue.photos.groups</th>\n",
       "    </tr>\n",
       "  </thead>\n",
       "  <tbody>\n",
       "    <tr>\n",
       "      <th>0</th>\n",
       "      <td>0</td>\n",
       "      <td>[{'summary': 'This spot is popular', 'type': '...</td>\n",
       "      <td>e-0-4c36e1e43849c928fac3bcb1-0</td>\n",
       "      <td>[{'id': '4bf58dd8d48988d1e0941735', 'name': 'H...</td>\n",
       "      <td>4c36e1e43849c928fac3bcb1</td>\n",
       "      <td>Fjordstien</td>\n",
       "      <td>DK</td>\n",
       "      <td>Kolding</td>\n",
       "      <td>Danmark</td>\n",
       "      <td>NaN</td>\n",
       "      <td>269</td>\n",
       "      <td>[Fjordstien, 6000 Kolding, Danmark]</td>\n",
       "      <td>[{'label': 'display', 'lat': 55.48786920684969...</td>\n",
       "      <td>55.487869</td>\n",
       "      <td>9.499942</td>\n",
       "      <td>6000</td>\n",
       "      <td>Region Syddanmark</td>\n",
       "      <td>Marina Syd</td>\n",
       "      <td>0</td>\n",
       "      <td>[]</td>\n",
       "    </tr>\n",
       "    <tr>\n",
       "      <th>1</th>\n",
       "      <td>0</td>\n",
       "      <td>[{'summary': 'This spot is popular', 'type': '...</td>\n",
       "      <td>e-0-4d21e3da6e8c3704f8b906a0-1</td>\n",
       "      <td>[{'id': '52dea92d3cf9994f4e043dbb', 'name': 'D...</td>\n",
       "      <td>4d21e3da6e8c3704f8b906a0</td>\n",
       "      <td>Kløvervej 39, Tved</td>\n",
       "      <td>DK</td>\n",
       "      <td>Kolding</td>\n",
       "      <td>Danmark</td>\n",
       "      <td>Tvedvej</td>\n",
       "      <td>304</td>\n",
       "      <td>[Kløvervej 39, Tved (Tvedvej), 6000 Kolding, D...</td>\n",
       "      <td>[{'label': 'display', 'lat': 55.48418432471778...</td>\n",
       "      <td>55.484184</td>\n",
       "      <td>9.501754</td>\n",
       "      <td>6000</td>\n",
       "      <td>Region Syddanmark</td>\n",
       "      <td>REMA 1000</td>\n",
       "      <td>0</td>\n",
       "      <td>[]</td>\n",
       "    </tr>\n",
       "    <tr>\n",
       "      <th>2</th>\n",
       "      <td>0</td>\n",
       "      <td>[{'summary': 'This spot is popular', 'type': '...</td>\n",
       "      <td>e-0-51bc50af498e9a4f34359b32-2</td>\n",
       "      <td>[{'id': '4f4528bc4b90abdf24c9de85', 'name': 'A...</td>\n",
       "      <td>51bc50af498e9a4f34359b32</td>\n",
       "      <td>NaN</td>\n",
       "      <td>DK</td>\n",
       "      <td>Kolding</td>\n",
       "      <td>Danmark</td>\n",
       "      <td>NaN</td>\n",
       "      <td>833</td>\n",
       "      <td>[Kolding, Danmark]</td>\n",
       "      <td>[{'label': 'display', 'lat': 55.48831435702992...</td>\n",
       "      <td>55.488314</td>\n",
       "      <td>9.485405</td>\n",
       "      <td>NaN</td>\n",
       "      <td>Region Syddanmark</td>\n",
       "      <td>Kolding Kajak Klub</td>\n",
       "      <td>0</td>\n",
       "      <td>[]</td>\n",
       "    </tr>\n",
       "    <tr>\n",
       "      <th>3</th>\n",
       "      <td>0</td>\n",
       "      <td>[{'summary': 'This spot is popular', 'type': '...</td>\n",
       "      <td>e-0-4e8edd6a61afe70d47cf3346-3</td>\n",
       "      <td>[{'id': '4bf58dd8d48988d1e0941735', 'name': 'H...</td>\n",
       "      <td>4e8edd6a61afe70d47cf3346</td>\n",
       "      <td>Jens Holms Vej 1</td>\n",
       "      <td>DK</td>\n",
       "      <td>Kolding</td>\n",
       "      <td>Danmark</td>\n",
       "      <td>NaN</td>\n",
       "      <td>892</td>\n",
       "      <td>[Jens Holms Vej 1, 6000 Kolding, Danmark]</td>\n",
       "      <td>[{'label': 'display', 'lat': 55.49083733965614...</td>\n",
       "      <td>55.490837</td>\n",
       "      <td>9.486867</td>\n",
       "      <td>6000</td>\n",
       "      <td>Region Syddanmark</td>\n",
       "      <td>Kolding Havn</td>\n",
       "      <td>0</td>\n",
       "      <td>[]</td>\n",
       "    </tr>\n",
       "    <tr>\n",
       "      <th>4</th>\n",
       "      <td>0</td>\n",
       "      <td>[{'summary': 'This spot is popular', 'type': '...</td>\n",
       "      <td>e-0-4cb6f0b9589f236a34e53a3d-4</td>\n",
       "      <td>[{'id': '4bf58dd8d48988d1f6941735', 'name': 'D...</td>\n",
       "      <td>4cb6f0b9589f236a34e53a3d</td>\n",
       "      <td>Agtrupvej</td>\n",
       "      <td>DK</td>\n",
       "      <td>Kolding</td>\n",
       "      <td>Danmark</td>\n",
       "      <td>NaN</td>\n",
       "      <td>891</td>\n",
       "      <td>[Agtrupvej, 6000 Kolding, Danmark]</td>\n",
       "      <td>[{'label': 'display', 'lat': 55.47883716192091...</td>\n",
       "      <td>55.478837</td>\n",
       "      <td>9.490720</td>\n",
       "      <td>6000</td>\n",
       "      <td>Region Syddanmark</td>\n",
       "      <td>Fakta</td>\n",
       "      <td>0</td>\n",
       "      <td>[]</td>\n",
       "    </tr>\n",
       "  </tbody>\n",
       "</table>\n",
       "</div>"
      ],
      "text/plain": [
       "   reasons.count  ... venue.photos.groups\n",
       "0              0  ...                  []\n",
       "1              0  ...                  []\n",
       "2              0  ...                  []\n",
       "3              0  ...                  []\n",
       "4              0  ...                  []\n",
       "\n",
       "[5 rows x 20 columns]"
      ]
     },
     "execution_count": 46,
     "metadata": {},
     "output_type": "execute_result"
    }
   ],
   "source": [
    "venues"
   ]
  },
  {
   "cell_type": "code",
   "execution_count": 47,
   "metadata": {},
   "outputs": [
    {
     "data": {
      "text/plain": [
       "Index(['reasons.count', 'reasons.items', 'referralId', 'venue.categories',\n",
       "       'venue.id', 'venue.location.address', 'venue.location.cc',\n",
       "       'venue.location.city', 'venue.location.country',\n",
       "       'venue.location.crossStreet', 'venue.location.distance',\n",
       "       'venue.location.formattedAddress', 'venue.location.labeledLatLngs',\n",
       "       'venue.location.lat', 'venue.location.lng', 'venue.location.postalCode',\n",
       "       'venue.location.state', 'venue.name', 'venue.photos.count',\n",
       "       'venue.photos.groups'],\n",
       "      dtype='object')"
      ]
     },
     "execution_count": 47,
     "metadata": {},
     "output_type": "execute_result"
    }
   ],
   "source": [
    "venues.columns"
   ]
  },
  {
   "cell_type": "code",
   "execution_count": 48,
   "metadata": {},
   "outputs": [],
   "source": [
    "venues.drop(['reasons.count', 'reasons.items', 'referralId', 'venue.categories',\n",
    "       'venue.id', 'venue.location.address', 'venue.location.cc',\n",
    "       'venue.location.city', 'venue.location.country',\n",
    "       'venue.location.crossStreet', 'venue.location.distance',\n",
    "       'venue.location.formattedAddress', 'venue.location.labeledLatLngs', 'venue.location.postalCode',\n",
    "       'venue.location.state','venue.photos.count',\n",
    "       'venue.photos.groups'],axis=1,inplace=True)"
   ]
  },
  {
   "cell_type": "code",
   "execution_count": 50,
   "metadata": {},
   "outputs": [
    {
     "data": {
      "text/html": [
       "<div>\n",
       "<style scoped>\n",
       "    .dataframe tbody tr th:only-of-type {\n",
       "        vertical-align: middle;\n",
       "    }\n",
       "\n",
       "    .dataframe tbody tr th {\n",
       "        vertical-align: top;\n",
       "    }\n",
       "\n",
       "    .dataframe thead th {\n",
       "        text-align: right;\n",
       "    }\n",
       "</style>\n",
       "<table border=\"1\" class=\"dataframe\">\n",
       "  <thead>\n",
       "    <tr style=\"text-align: right;\">\n",
       "      <th></th>\n",
       "      <th>venue.location.lat</th>\n",
       "      <th>venue.location.lng</th>\n",
       "      <th>venue.name</th>\n",
       "    </tr>\n",
       "  </thead>\n",
       "  <tbody>\n",
       "    <tr>\n",
       "      <th>0</th>\n",
       "      <td>55.487869</td>\n",
       "      <td>9.499942</td>\n",
       "      <td>Marina Syd</td>\n",
       "    </tr>\n",
       "    <tr>\n",
       "      <th>1</th>\n",
       "      <td>55.484184</td>\n",
       "      <td>9.501754</td>\n",
       "      <td>REMA 1000</td>\n",
       "    </tr>\n",
       "    <tr>\n",
       "      <th>2</th>\n",
       "      <td>55.488314</td>\n",
       "      <td>9.485405</td>\n",
       "      <td>Kolding Kajak Klub</td>\n",
       "    </tr>\n",
       "    <tr>\n",
       "      <th>3</th>\n",
       "      <td>55.490837</td>\n",
       "      <td>9.486867</td>\n",
       "      <td>Kolding Havn</td>\n",
       "    </tr>\n",
       "    <tr>\n",
       "      <th>4</th>\n",
       "      <td>55.478837</td>\n",
       "      <td>9.490720</td>\n",
       "      <td>Fakta</td>\n",
       "    </tr>\n",
       "  </tbody>\n",
       "</table>\n",
       "</div>"
      ],
      "text/plain": [
       "   venue.location.lat  venue.location.lng          venue.name\n",
       "0           55.487869            9.499942          Marina Syd\n",
       "1           55.484184            9.501754           REMA 1000\n",
       "2           55.488314            9.485405  Kolding Kajak Klub\n",
       "3           55.490837            9.486867        Kolding Havn\n",
       "4           55.478837            9.490720               Fakta"
      ]
     },
     "execution_count": 50,
     "metadata": {},
     "output_type": "execute_result"
    }
   ],
   "source": [
    "venues"
   ]
  },
  {
   "cell_type": "code",
   "execution_count": 57,
   "metadata": {},
   "outputs": [
    {
     "data": {
      "text/html": [
       "<div style=\"width:100%;\"><div style=\"position:relative;width:100%;height:0;padding-bottom:60%;\"><iframe src=\"data:text/html;charset=utf-8;base64,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\" style=\"position:absolute;width:100%;height:100%;left:0;top:0;border:none !important;\" allowfullscreen webkitallowfullscreen mozallowfullscreen></iframe></div></div>"
      ],
      "text/plain": [
       "<folium.folium.Map at 0x7f0277ba3128>"
      ]
     },
     "execution_count": 57,
     "metadata": {},
     "output_type": "execute_result"
    }
   ],
   "source": [
    "import folium\n",
    "\n",
    "map=folium.Map([latitude,longitude],zoom_start=13)\n",
    "\n",
    "folium.CircleMarker([latitude,longitude],\n",
    "                   radius=5,\n",
    "                   fill=True,\n",
    "                   color='black',\n",
    "                   fillcolor='green',\n",
    "                   popup='Metropolis').add_to(map)\n",
    "for lat,long,label in zip(venues['venue.location.lat'],venues['venue.location.lng'],venues['venue.name']):\n",
    "    folium.CircleMarker(\n",
    "                        [lat,long],\n",
    "                        radius=5,\n",
    "                        fill=True,\n",
    "                        color='black',\n",
    "                        fill_color='green',\n",
    "                        fill_opacity=0.4,\n",
    "                        popup=label\n",
    "    ).add_to(map)\n",
    "    \n",
    "map"
   ]
  }
 ],
 "metadata": {
  "kernelspec": {
   "display_name": "Python 3",
   "language": "python",
   "name": "python3"
  },
  "language_info": {
   "codemirror_mode": {
    "name": "ipython",
    "version": 3
   },
   "file_extension": ".py",
   "mimetype": "text/x-python",
   "name": "python",
   "nbconvert_exporter": "python",
   "pygments_lexer": "ipython3",
   "version": "3.7.3"
  }
 },
 "nbformat": 4,
 "nbformat_minor": 2
}
