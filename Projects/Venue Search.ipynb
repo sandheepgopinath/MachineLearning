{
 "cells": [
  {
   "cell_type": "markdown",
   "metadata": {},
   "source": [
    "### Finding Indian restaurants near my location using Foursquare and Folium"
   ]
  },
  {
   "cell_type": "code",
   "execution_count": 58,
   "metadata": {},
   "outputs": [
    {
     "name": "stdout",
     "output_type": "stream",
     "text": [
      "Requirement already satisfied: geopy in /home/sandheepgopinath/anaconda3/lib/python3.7/site-packages (1.21.0)\n",
      "Requirement already satisfied: geographiclib<2,>=1.49 in /home/sandheepgopinath/anaconda3/lib/python3.7/site-packages (from geopy) (1.50)\n"
     ]
    }
   ],
   "source": [
    "!pip install geopy"
   ]
  },
  {
   "cell_type": "code",
   "execution_count": 64,
   "metadata": {},
   "outputs": [
    {
     "name": "stdout",
     "output_type": "stream",
     "text": [
      "55.485765 , 9.497823\n"
     ]
    }
   ],
   "source": [
    "from geopy.geocoders import Nominatim\n",
    "\n",
    "# Creating an object of Nominatim with FourSquare agent\n",
    "\n",
    "geolocator=Nominatim(user_agent='foursquare_agent')\n",
    "\n",
    "# Finding the latitude and Longitude with an Address\n",
    "\n",
    "address=\"Klovervej 44 Kolding, Denmark, DK\"\n",
    "locator=geolocator.geocode(address)\n",
    "latitude=locator.latitude\n",
    "longitude=locator.longitude\n",
    "\n",
    "print(latitude,',',longitude)"
   ]
  },
  {
   "cell_type": "code",
   "execution_count": 71,
   "metadata": {},
   "outputs": [
    {
     "data": {
      "text/plain": [
       "'44, Kløvervej, Tved, Kolding, Kolding Kommune, Region Syddanmark, 6000, Danmark'"
      ]
     },
     "execution_count": 71,
     "metadata": {},
     "output_type": "execute_result"
    }
   ],
   "source": [
    "## Findng the address from given cordinates\n",
    "cordinates=str(latitude)+','+str(longitude)\n",
    "address_locator=geolocator.reverse(cordinates)\n",
    "address_locator.address"
   ]
  },
  {
   "cell_type": "code",
   "execution_count": 99,
   "metadata": {},
   "outputs": [
    {
     "data": {
      "text/plain": [
       "'https://api.foursquare.com/v2/venues/search?client_id=JFGH3PREVZK0JAEXJ4WANVT0C1XNAHHUC4NHYTBBA2OR2P0W&client_secret=L1JMFW35UOM0TZBH3BGXQOT1DGTZ5OL5EIGQPJ11BTAMVHUY&ll=55.485765,9.497823&v=20180604&query=Indian&radius=10000&limit=30'"
      ]
     },
     "execution_count": 99,
     "metadata": {},
     "output_type": "execute_result"
    }
   ],
   "source": [
    "#Using Foursquare API to get the list of venues nearby\n",
    "CLIENT_ID = 'JFGH3PREVZK0JAEXJ4WANVT0C1XNAHHUC4NHYTBBA2OR2P0W' # your Foursquare ID\n",
    "CLIENT_SECRET = 'L1JMFW35UOM0TZBH3BGXQOT1DGTZ5OL5EIGQPJ11BTAMVHUY' # your Foursquare Secret\n",
    "CLIENT_SECRET = 'L1JMFW35UOM0TZBH3BGXQOT1DGTZ5OL5EIGQPJ11BTAMVHUY' # your Foursquare Secret\n",
    "version = '20180604'\n",
    "limit = 30\n",
    "query='Indian'\n",
    "radius=10000\n",
    "api=\"https://api.foursquare.com/v2/venues/search?client_id={}&client_secret={}&ll={},{}&v={}&query={}&radius={}&limit={}\".format(CLIENT_ID,CLIENT_SECRET\n",
    "                                                                                                                            ,latitude,longitude,version,query,radius,limit)\n",
    "api"
   ]
  },
  {
   "cell_type": "code",
   "execution_count": 108,
   "metadata": {},
   "outputs": [],
   "source": [
    "#Importing requests and Json_normalize to work with REST API\n",
    "\n",
    "import requests\n",
    "from pandas.io.json import json_normalize\n",
    "\n",
    "result=requests.get(api).json()\n",
    "venue=result['response']['venues']\n",
    "#Convering json result to dataframe\n",
    "venue=json_normalize(venue)"
   ]
  },
  {
   "cell_type": "code",
   "execution_count": 109,
   "metadata": {},
   "outputs": [
    {
     "data": {
      "text/html": [
       "<div>\n",
       "<style scoped>\n",
       "    .dataframe tbody tr th:only-of-type {\n",
       "        vertical-align: middle;\n",
       "    }\n",
       "\n",
       "    .dataframe tbody tr th {\n",
       "        vertical-align: top;\n",
       "    }\n",
       "\n",
       "    .dataframe thead th {\n",
       "        text-align: right;\n",
       "    }\n",
       "</style>\n",
       "<table border=\"1\" class=\"dataframe\">\n",
       "  <thead>\n",
       "    <tr style=\"text-align: right;\">\n",
       "      <th></th>\n",
       "      <th>categories</th>\n",
       "      <th>hasPerk</th>\n",
       "      <th>id</th>\n",
       "      <th>location.address</th>\n",
       "      <th>location.cc</th>\n",
       "      <th>location.city</th>\n",
       "      <th>location.country</th>\n",
       "      <th>location.distance</th>\n",
       "      <th>location.formattedAddress</th>\n",
       "      <th>location.labeledLatLngs</th>\n",
       "      <th>location.lat</th>\n",
       "      <th>location.lng</th>\n",
       "      <th>location.postalCode</th>\n",
       "      <th>location.state</th>\n",
       "      <th>name</th>\n",
       "      <th>referralId</th>\n",
       "    </tr>\n",
       "  </thead>\n",
       "  <tbody>\n",
       "    <tr>\n",
       "      <th>0</th>\n",
       "      <td>[{'id': '4bf58dd8d48988d10f941735', 'name': 'I...</td>\n",
       "      <td>False</td>\n",
       "      <td>5272974711d2b4fe5aca6f44</td>\n",
       "      <td>NaN</td>\n",
       "      <td>DK</td>\n",
       "      <td>NaN</td>\n",
       "      <td>Danmark</td>\n",
       "      <td>1879</td>\n",
       "      <td>[Danmark]</td>\n",
       "      <td>[{'label': 'display', 'lat': 55.49252916628618...</td>\n",
       "      <td>55.492529</td>\n",
       "      <td>9.470512</td>\n",
       "      <td>NaN</td>\n",
       "      <td>NaN</td>\n",
       "      <td>Indian Hut</td>\n",
       "      <td>v-1581848484</td>\n",
       "    </tr>\n",
       "    <tr>\n",
       "      <th>1</th>\n",
       "      <td>[{'id': '4bf58dd8d48988d10f941735', 'name': 'I...</td>\n",
       "      <td>False</td>\n",
       "      <td>5d9618ad5f23f50008dfab92</td>\n",
       "      <td>Blæsbjerggade 10</td>\n",
       "      <td>DK</td>\n",
       "      <td>Kolding</td>\n",
       "      <td>Danmark</td>\n",
       "      <td>1820</td>\n",
       "      <td>[Blæsbjerggade 10, 6000 Kolding, Danmark]</td>\n",
       "      <td>[{'label': 'display', 'lat': 55.49155, 'lng': ...</td>\n",
       "      <td>55.491550</td>\n",
       "      <td>9.470829</td>\n",
       "      <td>6000</td>\n",
       "      <td>Region Syddanmark</td>\n",
       "      <td>south indian</td>\n",
       "      <td>v-1581848484</td>\n",
       "    </tr>\n",
       "  </tbody>\n",
       "</table>\n",
       "</div>"
      ],
      "text/plain": [
       "                                          categories  hasPerk  \\\n",
       "0  [{'id': '4bf58dd8d48988d10f941735', 'name': 'I...    False   \n",
       "1  [{'id': '4bf58dd8d48988d10f941735', 'name': 'I...    False   \n",
       "\n",
       "                         id  location.address location.cc location.city  \\\n",
       "0  5272974711d2b4fe5aca6f44               NaN          DK           NaN   \n",
       "1  5d9618ad5f23f50008dfab92  Blæsbjerggade 10          DK       Kolding   \n",
       "\n",
       "  location.country  location.distance  \\\n",
       "0          Danmark               1879   \n",
       "1          Danmark               1820   \n",
       "\n",
       "                   location.formattedAddress  \\\n",
       "0                                  [Danmark]   \n",
       "1  [Blæsbjerggade 10, 6000 Kolding, Danmark]   \n",
       "\n",
       "                             location.labeledLatLngs  location.lat  \\\n",
       "0  [{'label': 'display', 'lat': 55.49252916628618...     55.492529   \n",
       "1  [{'label': 'display', 'lat': 55.49155, 'lng': ...     55.491550   \n",
       "\n",
       "   location.lng location.postalCode     location.state          name  \\\n",
       "0      9.470512                 NaN                NaN    Indian Hut   \n",
       "1      9.470829                6000  Region Syddanmark  south indian   \n",
       "\n",
       "     referralId  \n",
       "0  v-1581848484  \n",
       "1  v-1581848484  "
      ]
     },
     "execution_count": 109,
     "metadata": {},
     "output_type": "execute_result"
    }
   ],
   "source": [
    "venue"
   ]
  },
  {
   "cell_type": "code",
   "execution_count": 110,
   "metadata": {},
   "outputs": [
    {
     "data": {
      "text/plain": [
       "Index(['categories', 'hasPerk', 'id', 'location.address', 'location.cc',\n",
       "       'location.city', 'location.country', 'location.distance',\n",
       "       'location.formattedAddress', 'location.labeledLatLngs', 'location.lat',\n",
       "       'location.lng', 'location.postalCode', 'location.state', 'name',\n",
       "       'referralId'],\n",
       "      dtype='object')"
      ]
     },
     "execution_count": 110,
     "metadata": {},
     "output_type": "execute_result"
    }
   ],
   "source": [
    "venue.columns\n"
   ]
  },
  {
   "cell_type": "code",
   "execution_count": 111,
   "metadata": {},
   "outputs": [
    {
     "data": {
      "text/html": [
       "<div>\n",
       "<style scoped>\n",
       "    .dataframe tbody tr th:only-of-type {\n",
       "        vertical-align: middle;\n",
       "    }\n",
       "\n",
       "    .dataframe tbody tr th {\n",
       "        vertical-align: top;\n",
       "    }\n",
       "\n",
       "    .dataframe thead th {\n",
       "        text-align: right;\n",
       "    }\n",
       "</style>\n",
       "<table border=\"1\" class=\"dataframe\">\n",
       "  <thead>\n",
       "    <tr style=\"text-align: right;\">\n",
       "      <th></th>\n",
       "      <th>location.lat</th>\n",
       "      <th>location.lng</th>\n",
       "      <th>name</th>\n",
       "    </tr>\n",
       "  </thead>\n",
       "  <tbody>\n",
       "    <tr>\n",
       "      <th>0</th>\n",
       "      <td>55.492529</td>\n",
       "      <td>9.470512</td>\n",
       "      <td>Indian Hut</td>\n",
       "    </tr>\n",
       "    <tr>\n",
       "      <th>1</th>\n",
       "      <td>55.491550</td>\n",
       "      <td>9.470829</td>\n",
       "      <td>south indian</td>\n",
       "    </tr>\n",
       "  </tbody>\n",
       "</table>\n",
       "</div>"
      ],
      "text/plain": [
       "   location.lat  location.lng          name\n",
       "0     55.492529      9.470512    Indian Hut\n",
       "1     55.491550      9.470829  south indian"
      ]
     },
     "execution_count": 111,
     "metadata": {},
     "output_type": "execute_result"
    }
   ],
   "source": [
    "venue.drop(['categories', 'hasPerk', 'id', 'location.address', 'location.cc',\n",
    "       'location.city', 'location.country', 'location.distance',\n",
    "       'location.formattedAddress', 'location.labeledLatLngs', 'location.postalCode', 'location.state',\n",
    "       'referralId'],axis=1,inplace=True)\n",
    "venue"
   ]
  },
  {
   "cell_type": "code",
   "execution_count": 114,
   "metadata": {},
   "outputs": [
    {
     "name": "stdout",
     "output_type": "stream",
     "text": [
      "Requirement already satisfied: folium in /home/sandheepgopinath/anaconda3/lib/python3.7/site-packages (0.10.1)\n",
      "Requirement already satisfied: jinja2>=2.9 in /home/sandheepgopinath/anaconda3/lib/python3.7/site-packages (from folium) (2.10)\n",
      "Requirement already satisfied: branca>=0.3.0 in /home/sandheepgopinath/anaconda3/lib/python3.7/site-packages (from folium) (0.3.1)\n",
      "Requirement already satisfied: requests in /home/sandheepgopinath/anaconda3/lib/python3.7/site-packages (from folium) (2.21.0)\n",
      "Requirement already satisfied: numpy in /home/sandheepgopinath/anaconda3/lib/python3.7/site-packages (from folium) (1.16.2)\n",
      "Requirement already satisfied: MarkupSafe>=0.23 in /home/sandheepgopinath/anaconda3/lib/python3.7/site-packages (from jinja2>=2.9->folium) (1.1.1)\n",
      "Requirement already satisfied: six in /home/sandheepgopinath/anaconda3/lib/python3.7/site-packages (from branca>=0.3.0->folium) (1.12.0)\n",
      "Requirement already satisfied: idna<2.9,>=2.5 in /home/sandheepgopinath/anaconda3/lib/python3.7/site-packages (from requests->folium) (2.8)\n",
      "Requirement already satisfied: certifi>=2017.4.17 in /home/sandheepgopinath/anaconda3/lib/python3.7/site-packages (from requests->folium) (2019.3.9)\n",
      "Requirement already satisfied: urllib3<1.25,>=1.21.1 in /home/sandheepgopinath/anaconda3/lib/python3.7/site-packages (from requests->folium) (1.24.1)\n",
      "Requirement already satisfied: chardet<3.1.0,>=3.0.2 in /home/sandheepgopinath/anaconda3/lib/python3.7/site-packages (from requests->folium) (3.0.4)\n"
     ]
    }
   ],
   "source": [
    "!pip install folium"
   ]
  },
  {
   "cell_type": "code",
   "execution_count": 139,
   "metadata": {},
   "outputs": [],
   "source": [
    "import folium\n",
    "\n",
    "map=folium.Map(location=[latitude,longitude],zoom_start=13)\n",
    "\n",
    "folium.CircleMarker([latitude,longitude],\n",
    "                            radius=10,\n",
    "                            fill=True,\n",
    "                            color='black',\n",
    "                            fill_color='red',\n",
    "                            fill_opacity=0.6,\n",
    "                            popup='Metropolis'\n",
    "                            ).add_to(map)\n",
    "\n",
    "for lat,long,label in zip(venue['location.lat'],venue['location.lng'],venue['name']):\n",
    "    folium.CircleMarker(\n",
    "                        [lat,long],\n",
    "                        radius=5,\n",
    "                        fill=True,\n",
    "                        color='black',\n",
    "                        fill_color='green',\n",
    "                        fill_opacity=0.4,\n",
    "                        popup=label\n",
    "    ).add_to(map)\n",
    "    "
   ]
  },
  {
   "cell_type": "code",
   "execution_count": 140,
   "metadata": {},
   "outputs": [
    {
     "data": {
      "text/html": [
       "<div style=\"width:100%;\"><div style=\"position:relative;width:100%;height:0;padding-bottom:60%;\"><iframe src=\"data:text/html;charset=utf-8;base64,PCFET0NUWVBFIGh0bWw+CjxoZWFkPiAgICAKICAgIDxtZXRhIGh0dHAtZXF1aXY9ImNvbnRlbnQtdHlwZSIgY29udGVudD0idGV4dC9odG1sOyBjaGFyc2V0PVVURi04IiAvPgogICAgCiAgICAgICAgPHNjcmlwdD4KICAgICAgICAgICAgTF9OT19UT1VDSCA9IGZhbHNlOwogICAgICAgICAgICBMX0RJU0FCTEVfM0QgPSBmYWxzZTsKICAgICAgICA8L3NjcmlwdD4KICAgIAogICAgPHNjcmlwdCBzcmM9Imh0dHBzOi8vY2RuLmpzZGVsaXZyLm5ldC9ucG0vbGVhZmxldEAxLjUuMS9kaXN0L2xlYWZsZXQuanMiPjwvc2NyaXB0PgogICAgPHNjcmlwdCBzcmM9Imh0dHBzOi8vY29kZS5qcXVlcnkuY29tL2pxdWVyeS0xLjEyLjQubWluLmpzIj48L3NjcmlwdD4KICAgIDxzY3JpcHQgc3JjPSJodHRwczovL21heGNkbi5ib290c3RyYXBjZG4uY29tL2Jvb3RzdHJhcC8zLjIuMC9qcy9ib290c3RyYXAubWluLmpzIj48L3NjcmlwdD4KICAgIDxzY3JpcHQgc3JjPSJodHRwczovL2NkbmpzLmNsb3VkZmxhcmUuY29tL2FqYXgvbGlicy9MZWFmbGV0LmF3ZXNvbWUtbWFya2Vycy8yLjAuMi9sZWFmbGV0LmF3ZXNvbWUtbWFya2Vycy5qcyI+PC9zY3JpcHQ+CiAgICA8bGluayByZWw9InN0eWxlc2hlZXQiIGhyZWY9Imh0dHBzOi8vY2RuLmpzZGVsaXZyLm5ldC9ucG0vbGVhZmxldEAxLjUuMS9kaXN0L2xlYWZsZXQuY3NzIi8+CiAgICA8bGluayByZWw9InN0eWxlc2hlZXQiIGhyZWY9Imh0dHBzOi8vbWF4Y2RuLmJvb3RzdHJhcGNkbi5jb20vYm9vdHN0cmFwLzMuMi4wL2Nzcy9ib290c3RyYXAubWluLmNzcyIvPgogICAgPGxpbmsgcmVsPSJzdHlsZXNoZWV0IiBocmVmPSJodHRwczovL21heGNkbi5ib290c3RyYXBjZG4uY29tL2Jvb3RzdHJhcC8zLjIuMC9jc3MvYm9vdHN0cmFwLXRoZW1lLm1pbi5jc3MiLz4KICAgIDxsaW5rIHJlbD0ic3R5bGVzaGVldCIgaHJlZj0iaHR0cHM6Ly9tYXhjZG4uYm9vdHN0cmFwY2RuLmNvbS9mb250LWF3ZXNvbWUvNC42LjMvY3NzL2ZvbnQtYXdlc29tZS5taW4uY3NzIi8+CiAgICA8bGluayByZWw9InN0eWxlc2hlZXQiIGhyZWY9Imh0dHBzOi8vY2RuanMuY2xvdWRmbGFyZS5jb20vYWpheC9saWJzL0xlYWZsZXQuYXdlc29tZS1tYXJrZXJzLzIuMC4yL2xlYWZsZXQuYXdlc29tZS1tYXJrZXJzLmNzcyIvPgogICAgPGxpbmsgcmVsPSJzdHlsZXNoZWV0IiBocmVmPSJodHRwczovL3Jhd2Nkbi5naXRoYWNrLmNvbS9weXRob24tdmlzdWFsaXphdGlvbi9mb2xpdW0vbWFzdGVyL2ZvbGl1bS90ZW1wbGF0ZXMvbGVhZmxldC5hd2Vzb21lLnJvdGF0ZS5jc3MiLz4KICAgIDxzdHlsZT5odG1sLCBib2R5IHt3aWR0aDogMTAwJTtoZWlnaHQ6IDEwMCU7bWFyZ2luOiAwO3BhZGRpbmc6IDA7fTwvc3R5bGU+CiAgICA8c3R5bGU+I21hcCB7cG9zaXRpb246YWJzb2x1dGU7dG9wOjA7Ym90dG9tOjA7cmlnaHQ6MDtsZWZ0OjA7fTwvc3R5bGU+CiAgICAKICAgICAgICAgICAgPG1ldGEgbmFtZT0idmlld3BvcnQiIGNvbnRlbnQ9IndpZHRoPWRldmljZS13aWR0aCwKICAgICAgICAgICAgICAgIGluaXRpYWwtc2NhbGU9MS4wLCBtYXhpbXVtLXNjYWxlPTEuMCwgdXNlci1zY2FsYWJsZT1ubyIgLz4KICAgICAgICAgICAgPHN0eWxlPgogICAgICAgICAgICAgICAgI21hcF80NDFhNDlhOTVhODY0NDI5OWVmYjNkMzdjYmQ3NzZmZCB7CiAgICAgICAgICAgICAgICAgICAgcG9zaXRpb246IHJlbGF0aXZlOwogICAgICAgICAgICAgICAgICAgIHdpZHRoOiAxMDAuMCU7CiAgICAgICAgICAgICAgICAgICAgaGVpZ2h0OiAxMDAuMCU7CiAgICAgICAgICAgICAgICAgICAgbGVmdDogMC4wJTsKICAgICAgICAgICAgICAgICAgICB0b3A6IDAuMCU7CiAgICAgICAgICAgICAgICB9CiAgICAgICAgICAgIDwvc3R5bGU+CiAgICAgICAgCjwvaGVhZD4KPGJvZHk+ICAgIAogICAgCiAgICAgICAgICAgIDxkaXYgY2xhc3M9ImZvbGl1bS1tYXAiIGlkPSJtYXBfNDQxYTQ5YTk1YTg2NDQyOTllZmIzZDM3Y2JkNzc2ZmQiID48L2Rpdj4KICAgICAgICAKPC9ib2R5Pgo8c2NyaXB0PiAgICAKICAgIAogICAgICAgICAgICB2YXIgbWFwXzQ0MWE0OWE5NWE4NjQ0Mjk5ZWZiM2QzN2NiZDc3NmZkID0gTC5tYXAoCiAgICAgICAgICAgICAgICAibWFwXzQ0MWE0OWE5NWE4NjQ0Mjk5ZWZiM2QzN2NiZDc3NmZkIiwKICAgICAgICAgICAgICAgIHsKICAgICAgICAgICAgICAgICAgICBjZW50ZXI6IFs1NS40ODU3NjUsIDkuNDk3ODIzXSwKICAgICAgICAgICAgICAgICAgICBjcnM6IEwuQ1JTLkVQU0czODU3LAogICAgICAgICAgICAgICAgICAgIHpvb206IDEzLAogICAgICAgICAgICAgICAgICAgIHpvb21Db250cm9sOiB0cnVlLAogICAgICAgICAgICAgICAgICAgIHByZWZlckNhbnZhczogZmFsc2UsCiAgICAgICAgICAgICAgICB9CiAgICAgICAgICAgICk7CgogICAgICAgICAgICAKCiAgICAgICAgCiAgICAKICAgICAgICAgICAgdmFyIHRpbGVfbGF5ZXJfM2Q1NjA5MTk5MDc3NDJmYjg2M2VhNmIyNTE4NjY3YWEgPSBMLnRpbGVMYXllcigKICAgICAgICAgICAgICAgICJodHRwczovL3tzfS50aWxlLm9wZW5zdHJlZXRtYXAub3JnL3t6fS97eH0ve3l9LnBuZyIsCiAgICAgICAgICAgICAgICB7ImF0dHJpYnV0aW9uIjogIkRhdGEgYnkgXHUwMDNjYSBocmVmPVwiaHR0cDovL29wZW5zdHJlZXRtYXAub3JnXCJcdTAwM2VPcGVuU3RyZWV0TWFwXHUwMDNjL2FcdTAwM2UsIHVuZGVyIFx1MDAzY2EgaHJlZj1cImh0dHA6Ly93d3cub3BlbnN0cmVldG1hcC5vcmcvY29weXJpZ2h0XCJcdTAwM2VPRGJMXHUwMDNjL2FcdTAwM2UuIiwgImRldGVjdFJldGluYSI6IGZhbHNlLCAibWF4TmF0aXZlWm9vbSI6IDE4LCAibWF4Wm9vbSI6IDE4LCAibWluWm9vbSI6IDAsICJub1dyYXAiOiBmYWxzZSwgIm9wYWNpdHkiOiAxLCAic3ViZG9tYWlucyI6ICJhYmMiLCAidG1zIjogZmFsc2V9CiAgICAgICAgICAgICkuYWRkVG8obWFwXzQ0MWE0OWE5NWE4NjQ0Mjk5ZWZiM2QzN2NiZDc3NmZkKTsKICAgICAgICAKICAgIAogICAgICAgICAgICB2YXIgY2lyY2xlX21hcmtlcl8wNTFlYjQ1ZWNhYjI0NjFiYmE2MjEzMDhmY2RkY2RiYyA9IEwuY2lyY2xlTWFya2VyKAogICAgICAgICAgICAgICAgWzU1LjQ4NTc2NSwgOS40OTc4MjNdLAogICAgICAgICAgICAgICAgeyJidWJibGluZ01vdXNlRXZlbnRzIjogdHJ1ZSwgImNvbG9yIjogImJsYWNrIiwgImRhc2hBcnJheSI6IG51bGwsICJkYXNoT2Zmc2V0IjogbnVsbCwgImZpbGwiOiB0cnVlLCAiZmlsbENvbG9yIjogInJlZCIsICJmaWxsT3BhY2l0eSI6IDAuNiwgImZpbGxSdWxlIjogImV2ZW5vZGQiLCAibGluZUNhcCI6ICJyb3VuZCIsICJsaW5lSm9pbiI6ICJyb3VuZCIsICJvcGFjaXR5IjogMS4wLCAicmFkaXVzIjogMTAsICJzdHJva2UiOiB0cnVlLCAid2VpZ2h0IjogM30KICAgICAgICAgICAgKS5hZGRUbyhtYXBfNDQxYTQ5YTk1YTg2NDQyOTllZmIzZDM3Y2JkNzc2ZmQpOwogICAgICAgIAogICAgCiAgICAgICAgdmFyIHBvcHVwX2MzOTZmMzgyNWM4ZjQ4OThhOTMxMGJjOGE5ODE2ZGVjID0gTC5wb3B1cCh7Im1heFdpZHRoIjogIjEwMCUifSk7CgogICAgICAgIAogICAgICAgICAgICB2YXIgaHRtbF81MWE4NWNkNzIxOTg0ZmFmYmI1YzhmMDM4MTkwNGY3ZiA9ICQoYDxkaXYgaWQ9Imh0bWxfNTFhODVjZDcyMTk4NGZhZmJiNWM4ZjAzODE5MDRmN2YiIHN0eWxlPSJ3aWR0aDogMTAwLjAlOyBoZWlnaHQ6IDEwMC4wJTsiPk1ldHJvcG9saXM8L2Rpdj5gKVswXTsKICAgICAgICAgICAgcG9wdXBfYzM5NmYzODI1YzhmNDg5OGE5MzEwYmM4YTk4MTZkZWMuc2V0Q29udGVudChodG1sXzUxYTg1Y2Q3MjE5ODRmYWZiYjVjOGYwMzgxOTA0ZjdmKTsKICAgICAgICAKCiAgICAgICAgY2lyY2xlX21hcmtlcl8wNTFlYjQ1ZWNhYjI0NjFiYmE2MjEzMDhmY2RkY2RiYy5iaW5kUG9wdXAocG9wdXBfYzM5NmYzODI1YzhmNDg5OGE5MzEwYmM4YTk4MTZkZWMpCiAgICAgICAgOwoKICAgICAgICAKICAgIAogICAgCiAgICAgICAgICAgIHZhciBjaXJjbGVfbWFya2VyXzliN2RkNTg5MWY4YTQyYTY5NTc0MTJmNGM3YmU0MGRiID0gTC5jaXJjbGVNYXJrZXIoCiAgICAgICAgICAgICAgICBbNTUuNDkyNTI5MTY2Mjg2MTgsIDkuNDcwNTExNjczMzQ2ODM0XSwKICAgICAgICAgICAgICAgIHsiYnViYmxpbmdNb3VzZUV2ZW50cyI6IHRydWUsICJjb2xvciI6ICJibGFjayIsICJkYXNoQXJyYXkiOiBudWxsLCAiZGFzaE9mZnNldCI6IG51bGwsICJmaWxsIjogdHJ1ZSwgImZpbGxDb2xvciI6ICJncmVlbiIsICJmaWxsT3BhY2l0eSI6IDAuNCwgImZpbGxSdWxlIjogImV2ZW5vZGQiLCAibGluZUNhcCI6ICJyb3VuZCIsICJsaW5lSm9pbiI6ICJyb3VuZCIsICJvcGFjaXR5IjogMS4wLCAicmFkaXVzIjogNSwgInN0cm9rZSI6IHRydWUsICJ3ZWlnaHQiOiAzfQogICAgICAgICAgICApLmFkZFRvKG1hcF80NDFhNDlhOTVhODY0NDI5OWVmYjNkMzdjYmQ3NzZmZCk7CiAgICAgICAgCiAgICAKICAgICAgICB2YXIgcG9wdXBfMzNhN2EzZWZmMzJkNGYzYTg0OTFmYjEwZjRhYmI5OWYgPSBMLnBvcHVwKHsibWF4V2lkdGgiOiAiMTAwJSJ9KTsKCiAgICAgICAgCiAgICAgICAgICAgIHZhciBodG1sX2VhOTk5NjMwZGYwYTQ5MTlhZjkwYzhhYmRkZjAwN2RhID0gJChgPGRpdiBpZD0iaHRtbF9lYTk5OTYzMGRmMGE0OTE5YWY5MGM4YWJkZGYwMDdkYSIgc3R5bGU9IndpZHRoOiAxMDAuMCU7IGhlaWdodDogMTAwLjAlOyI+SW5kaWFuIEh1dDwvZGl2PmApWzBdOwogICAgICAgICAgICBwb3B1cF8zM2E3YTNlZmYzMmQ0ZjNhODQ5MWZiMTBmNGFiYjk5Zi5zZXRDb250ZW50KGh0bWxfZWE5OTk2MzBkZjBhNDkxOWFmOTBjOGFiZGRmMDA3ZGEpOwogICAgICAgIAoKICAgICAgICBjaXJjbGVfbWFya2VyXzliN2RkNTg5MWY4YTQyYTY5NTc0MTJmNGM3YmU0MGRiLmJpbmRQb3B1cChwb3B1cF8zM2E3YTNlZmYzMmQ0ZjNhODQ5MWZiMTBmNGFiYjk5ZikKICAgICAgICA7CgogICAgICAgIAogICAgCiAgICAKICAgICAgICAgICAgdmFyIGNpcmNsZV9tYXJrZXJfMTRhZDkzMTIyMjI3NGQ1ZGFhYzRlMDJiZTdlZmYyZDMgPSBMLmNpcmNsZU1hcmtlcigKICAgICAgICAgICAgICAgIFs1NS40OTE1NSwgOS40NzA4MjldLAogICAgICAgICAgICAgICAgeyJidWJibGluZ01vdXNlRXZlbnRzIjogdHJ1ZSwgImNvbG9yIjogImJsYWNrIiwgImRhc2hBcnJheSI6IG51bGwsICJkYXNoT2Zmc2V0IjogbnVsbCwgImZpbGwiOiB0cnVlLCAiZmlsbENvbG9yIjogImdyZWVuIiwgImZpbGxPcGFjaXR5IjogMC40LCAiZmlsbFJ1bGUiOiAiZXZlbm9kZCIsICJsaW5lQ2FwIjogInJvdW5kIiwgImxpbmVKb2luIjogInJvdW5kIiwgIm9wYWNpdHkiOiAxLjAsICJyYWRpdXMiOiA1LCAic3Ryb2tlIjogdHJ1ZSwgIndlaWdodCI6IDN9CiAgICAgICAgICAgICkuYWRkVG8obWFwXzQ0MWE0OWE5NWE4NjQ0Mjk5ZWZiM2QzN2NiZDc3NmZkKTsKICAgICAgICAKICAgIAogICAgICAgIHZhciBwb3B1cF9hMWUxMDBkYzNkNTc0MzVmODljNDA5MjY5ZWE3ZDhmOCA9IEwucG9wdXAoeyJtYXhXaWR0aCI6ICIxMDAlIn0pOwoKICAgICAgICAKICAgICAgICAgICAgdmFyIGh0bWxfZmYyZDY3ZDg2OGVlNDAwY2JhMWNiODU2Mzc4YzMyYmEgPSAkKGA8ZGl2IGlkPSJodG1sX2ZmMmQ2N2Q4NjhlZTQwMGNiYTFjYjg1NjM3OGMzMmJhIiBzdHlsZT0id2lkdGg6IDEwMC4wJTsgaGVpZ2h0OiAxMDAuMCU7Ij5zb3V0aCBpbmRpYW48L2Rpdj5gKVswXTsKICAgICAgICAgICAgcG9wdXBfYTFlMTAwZGMzZDU3NDM1Zjg5YzQwOTI2OWVhN2Q4Zjguc2V0Q29udGVudChodG1sX2ZmMmQ2N2Q4NjhlZTQwMGNiYTFjYjg1NjM3OGMzMmJhKTsKICAgICAgICAKCiAgICAgICAgY2lyY2xlX21hcmtlcl8xNGFkOTMxMjIyMjc0ZDVkYWFjNGUwMmJlN2VmZjJkMy5iaW5kUG9wdXAocG9wdXBfYTFlMTAwZGMzZDU3NDM1Zjg5YzQwOTI2OWVhN2Q4ZjgpCiAgICAgICAgOwoKICAgICAgICAKICAgIAo8L3NjcmlwdD4=\" style=\"position:absolute;width:100%;height:100%;left:0;top:0;border:none !important;\" allowfullscreen webkitallowfullscreen mozallowfullscreen></iframe></div></div>"
      ],
      "text/plain": [
       "<folium.folium.Map at 0x7f18568e8eb8>"
      ]
     },
     "execution_count": 140,
     "metadata": {},
     "output_type": "execute_result"
    }
   ],
   "source": [
    "map"
   ]
  },
  {
   "cell_type": "code",
   "execution_count": null,
   "metadata": {},
   "outputs": [],
   "source": []
  }
 ],
 "metadata": {
  "kernelspec": {
   "display_name": "Python 3",
   "language": "python",
   "name": "python3"
  },
  "language_info": {
   "codemirror_mode": {
    "name": "ipython",
    "version": 3
   },
   "file_extension": ".py",
   "mimetype": "text/x-python",
   "name": "python",
   "nbconvert_exporter": "python",
   "pygments_lexer": "ipython3",
   "version": "3.7.3"
  }
 },
 "nbformat": 4,
 "nbformat_minor": 2
}
